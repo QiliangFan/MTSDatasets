{
 "cells": [
  {
   "cell_type": "markdown",
   "metadata": {},
   "source": [
    "# Plot available metric names"
   ]
  },
  {
   "cell_type": "code",
   "execution_count": null,
   "metadata": {},
   "outputs": [],
   "source": [
    "import pandas as pd\n",
    "import numpy as np\n",
    "\n",
    "metric = pd.read_csv(\"metrics.csv\")\n",
    "names = set(metric[\"name\"])\n",
    "print(*names, sep=\"\\n\", file=open(\"metric_names.txt\", \"w\"))\n",
    "print(f\"metric num: {len(names)}\")"
   ]
  },
  {
   "cell_type": "code",
   "execution_count": 35,
   "metadata": {},
   "outputs": [],
   "source": [
    "from collections import OrderedDict\n",
    "\n",
    "metric_len = []\n",
    "start_ts = -1\n",
    "end_ts = -1\n",
    "information = {}\n",
    "\n",
    "max_start = 0\n",
    "min_end = max(metric[\"timestamp\"].tolist())\n",
    "\n",
    "for m_name in names:\n",
    "    # seg = metric[(metric[\"name\"] == m_name) & (1590687960 <= metric[\"timestamp\"]) & ( metric[\"timestamp\"] <= 1586554020)]\n",
    "    seg = metric[(metric[\"name\"] == m_name)]\n",
    "    seg_len = len(seg)\n",
    "    if seg_len < 2000:\n",
    "        continue\n",
    "    \n",
    "    start_ts = seg[\"timestamp\"].tolist()[0]\n",
    "    end_ts = seg[\"timestamp\"].tolist()[-1]\n",
    "\n",
    "    max_start = max(max_start, start_ts)\n",
    "    min_end = min(min_end, end_ts)\n",
    "\n",
    "\n",
    "    metric_len.append(seg_len)\n",
    "    information[m_name] = {\n",
    "        \"start_ts\": start_ts,\n",
    "        \"end_ts\": end_ts,\n",
    "        \"len\": seg_len\n",
    "    }\n",
    "\n",
    "# start & end  \n",
    "print(max_start, min_end)\n",
    "information = OrderedDict(sorted(information.items(), key=lambda k: f\"{k[1]['start_ts']}{k[1]['len']:0>10d}\"))\n"
   ]
  },
  {
   "cell_type": "code",
   "execution_count": 39,
   "metadata": {},
   "outputs": [
    {
     "name": "stdout",
     "output_type": "stream",
     "text": [
      "Metric len: \n",
      " min: 1 max: 3386\n"
     ]
    },
    {
     "data": {
      "image/png": "[encoded data removed]",
      "text/plain": [
       "<Figure size 640x480 with 1 Axes>"
      ]
     },
     "metadata": {},
     "output_type": "display_data"
    }
   ],
   "source": [
    "%matplotlib inline\n",
    "import matplotlib.pyplot as plt\n",
    "import json\n",
    "import os\n",
    "\n",
    "if not os.path.exists(\"output\"):\n",
    "    os.mkdir(\"output\")\n",
    "\n",
    "print(f\"Metric len: \\n min: {min(metric_len)} max: {max(metric_len)}\")\n",
    "\n",
    "print(json.dumps(information, indent=4), file=open(os.path.join(\"output\", \"all_metric.json\"), \"w\"))\n",
    "\n",
    "plt.figure()\n",
    "plt.hist(metric_len)\n",
    "plt.show()\n"
   ]
  },
  {
   "cell_type": "markdown",
   "metadata": {},
   "source": [
    "根据all_metric.json的内容，基本可以判断数据点有缺失，且采样密度不一致的： 长的序列300s采样一次， 短的序列60s采样一次，有的序列甚至是采样间隔差距非常大"
   ]
  },
  {
   "cell_type": "code",
   "execution_count": null,
   "metadata": {},
   "outputs": [],
   "source": []
  }
 ],
 "metadata": {
  "kernelspec": {
   "display_name": "Python 3.9.7 ('ml')",
   "language": "python",
   "name": "python3"
  },
  "language_info": {
   "codemirror_mode": {
    "name": "ipython",
    "version": 3
   },
   "file_extension": ".py",
   "mimetype": "text/x-python",
   "name": "python",
   "nbconvert_exporter": "python",
   "pygments_lexer": "ipython3",
   "version": "3.9.7"
  },
  "orig_nbformat": 4,
  "vscode": {
   "interpreter": {
    "hash": "043fcf172c21ce860109ebb23e3e700203ad107cca619e48e0498dd23b300689"
   }
  }
 },
 "nbformat": 4,
 "nbformat_minor": 2
}
