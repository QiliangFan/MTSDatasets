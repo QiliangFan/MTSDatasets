{
 "cells": [
  {
   "cell_type": "code",
   "execution_count": 1,
   "metadata": {},
   "outputs": [],
   "source": [
    "import yaml\n",
    "import json\n",
    "import graphviz\n",
    "\n",
    "graph = yaml.safe_load(open(\"graph.yml\", \"r\"))"
   ]
  },
  {
   "cell_type": "markdown",
   "metadata": {},
   "source": [
    "# Process Node\n",
    "\n",
    "> 其实想一下， 一个node上真实运行的内容还是一个个pod和db（数据库其实以容器形式也可以叫pod）"
   ]
  },
  {
   "cell_type": "code",
   "execution_count": 3,
   "metadata": {},
   "outputs": [
    {
     "name": "stdout",
     "output_type": "stream",
     "text": [
      "digraph \"graph\" {\n",
      "\tdocker_001\n",
      "\tdocker_002\n",
      "\tdocker_003\n",
      "\tdocker_004\n",
      "\tdocker_005\n",
      "\tdocker_006\n",
      "\tdocker_007\n",
      "\tdocker_008\n",
      "\tdb_003\n",
      "\tdb_007\n",
      "\tdb_009\n",
      "}\n",
      "\n"
     ]
    },
    {
     "data": {
      "text/plain": [
       "'output/deployment.svg'"
      ]
     },
     "execution_count": 3,
     "metadata": {},
     "output_type": "execute_result"
    }
   ],
   "source": [
    "from textwrap import indent\n",
    "import os\n",
    "\n",
    "useful_type = [\"DB\", \"Docker\"]\n",
    "nodes = [v for v in graph if v[\"class\"] == \"node\" and v[\"type\"] in useful_type]\n",
    "\n",
    "\n",
    "dot = graphviz.Digraph(\"graph\", format=\"svg\")\n",
    "dot_deploy = graphviz.Digraph(\"deployment\", format=\"svg\")\n",
    "\n",
    "for v in nodes:\n",
    "    params = v[\"params\"]\n",
    "    for p in params:\n",
    "        p_v = params[p]\n",
    "\n",
    "        for value in p_v:\n",
    "            true_id = v[\"id\"].replace(f\"{{{p}}}\", value)\n",
    "            dot.node(true_id)\n",
    "\n",
    "print(dot.source)\n",
    "\n",
    "useful_type =  [\"call\"]\n",
    "edges = [v for v in graph if v[\"class\"] == \"edge\" and v[\"type\"] in useful_type]\n",
    "\n",
    "deployments = [v for v in graph if v[\"class\"] == \"edge\" and v[\"type\"] == \"deployment\"]\n",
    "\n",
    "# docker -> os\n",
    "deploy_map = {}\n",
    "for _dep in deployments:\n",
    "    if \"docker\" not in _dep[\"params\"] or \"os\" not in _dep[\"params\"]: continue\n",
    "    for src, dst in zip(_dep[\"params\"][\"docker\"], _dep[\"params\"][\"os\"]):\n",
    "        if \"docker\" in src and \"os\" in dst:\n",
    "            deploy_map[src] = dst\n",
    "            dot_deploy.edge(src, dst)\n",
    "        \n",
    "json.dump(deploy_map, open(os.path.join(\"output\", \"graph.json\"), \"w\"), indent=4)\n",
    "\n",
    "for e in edges:\n",
    "    srcs = e[\"params\"][\"src\"]\n",
    "    dsts = e[\"params\"][\"dst\"]\n",
    "    for src, dst in zip(srcs, dsts):\n",
    "        if \"os\" not in src and \"os\" not in dst:\n",
    "            dot.edge(src, dst)\n",
    "        elif \"os\" in src and \"docker\" in dst:\n",
    "            dot.edge(src, deploy_map[dst])\n",
    "\n",
    "\n",
    "dot.render(filename=\"graph\", directory=\"output\")\n",
    "dot_deploy.render(filename=\"deployment\", directory=\"output\")"
   ]
  },
  {
   "cell_type": "code",
   "execution_count": 20,
   "metadata": {},
   "outputs": [
    {
     "data": {
      "text/plain": [
       "'output/graph.svg'"
      ]
     },
     "execution_count": 20,
     "metadata": {},
     "output_type": "execute_result"
    }
   ],
   "source": []
  },
  {
   "cell_type": "code",
   "execution_count": null,
   "metadata": {},
   "outputs": [],
   "source": []
  }
 ],
 "metadata": {
  "kernelspec": {
   "display_name": "Python 3.9.7 ('ml')",
   "language": "python",
   "name": "python3"
  },
  "language_info": {
   "codemirror_mode": {
    "name": "ipython",
    "version": 3
   },
   "file_extension": ".py",
   "mimetype": "text/x-python",
   "name": "python",
   "nbconvert_exporter": "python",
   "pygments_lexer": "ipython3",
   "version": "3.9.7"
  },
  "orig_nbformat": 4,
  "vscode": {
   "interpreter": {
    "hash": "043fcf172c21ce860109ebb23e3e700203ad107cca619e48e0498dd23b300689"
   }
  }
 },
 "nbformat": 4,
 "nbformat_minor": 2
}
